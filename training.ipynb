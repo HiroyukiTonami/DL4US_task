{
 "cells": [
  {
   "cell_type": "code",
   "execution_count": 1,
   "metadata": {},
   "outputs": [],
   "source": [
    "# データの用意\n",
    "import glob\n",
    "import numpy as np\n",
    "from tensorflow.keras.preprocessing.image import load_img, img_to_array\n",
    "from tensorflow.keras.utils import to_categorical\n",
    "x_train = np.empty([0, 224, 224, 3])\n",
    "y_train = np.empty([0])\n",
    "IMG_SIZE = 224\n",
    "for i in range(16):\n",
    "    files = glob.glob(f'datas/major_org/{i}/*.jpg')\n",
    "    imgs = np.array([img_to_array(load_img(f, color_mode='rgb', target_size=(IMG_SIZE,IMG_SIZE))) for f in files])\n",
    "    labels = np.array([i for f in files])\n",
    "\n",
    "    x_train = np.r_[x_train, imgs]\n",
    "    y_train = np.r_[y_train, labels]\n",
    "\n",
    "files = glob.glob(f'datas/tests/*.jpg')\n",
    "x_test = np.array([img_to_array(load_img(f, color_mode='rgb', target_size=(IMG_SIZE,IMG_SIZE))) for f in files])\n",
    "y_test = np.array([int(f.replace('datas/tests\\\\', '').replace('.jpg', '')) for f in files])\n",
    "\n",
    "y_train = to_categorical(y_train)\n",
    "y_test = to_categorical(y_test)\n",
    "y_test = np.pad(y_test, [(0,0),(0,1)], 'constant')"
   ]
  },
  {
   "cell_type": "code",
   "execution_count": 2,
   "metadata": {},
   "outputs": [
    {
     "name": "stdout",
     "output_type": "stream",
     "text": "(464, 224, 224, 3)\n(464, 16)\n(15, 224, 224, 3)\n(15, 16)\n"
    }
   ],
   "source": [
    "# データセットの大きさ確認\n",
    "print(x_train.shape) # 訓練データのサイズ\n",
    "print(y_train.shape) \n",
    "print(x_test.shape) # テストデータのサイズ\n",
    "print(y_test.shape)\n",
    "#(464, 224, 224, 3)"
   ]
  },
  {
   "cell_type": "code",
   "execution_count": null,
   "metadata": {},
   "outputs": [],
   "source": [
    "# データセットの表示\n",
    "%matplotlib inline\n",
    "import matplotlib.pyplot as plt\n",
    "\n",
    "fig = plt.figure(figsize=(120, 120))\n",
    "fig.subplots_adjust(left=0, right=1, bottom=0, top=0.5, hspace=0.05, wspace=0.05)\n",
    "\n",
    "for i in range(9):\n",
    "    ax = fig.add_subplot(1, 9, i + 1, xticks=[], yticks=[])\n",
    "    ax.imshow((x_train[i] * 255).astype(np.uint8))"
   ]
  },
  {
   "cell_type": "code",
   "execution_count": null,
   "metadata": {},
   "outputs": [],
   "source": [
    "# モデル構築 ふんわりCNN\n",
    "from tensorflow.keras.models import Sequential\n",
    "from tensorflow.keras.layers import Dense, Activation, Dropout, Flatten, Convolution2D, MaxPooling2D, ZeroPadding2D\n",
    "\n",
    "model = Sequential()\n",
    "\n",
    "model.add(Convolution2D(32, (3, 3), activation='relu', padding='same', input_shape=(120, 120, 1)))\n",
    "model.add(MaxPooling2D(pool_size=(2, 2)))\n",
    "\n",
    "model.add(Convolution2D(32, (3, 3), activation='relu', padding='same'))\n",
    "model.add(MaxPooling2D(pool_size=(2, 2)))\n",
    "\n",
    "model.add(Convolution2D(64, (3, 3), activation='relu', padding='same'))\n",
    "model.add(MaxPooling2D(pool_size=(2, 2)))\n",
    "model.add(Dropout(0.3))\n",
    "\n",
    "model.add(Convolution2D(128, (3, 3), activation='relu', padding='same'))\n",
    "model.add(MaxPooling2D(pool_size=(2, 2)))\n",
    "\n",
    "model.add(Convolution2D(256, (3, 3), activation='relu', padding='same'))\n",
    "model.add(MaxPooling2D(pool_size=(2, 2)))\n",
    "\n",
    "model.add(Convolution2D(364, (3, 3), activation='relu', padding='same'))\n",
    "model.add(MaxPooling2D(pool_size=(2, 2)))\n",
    "\n",
    "model.add(Flatten())\n",
    "model.add(Dense(512, activation='relu'))\n",
    "model.add(Dropout(0.4))\n",
    "\n",
    "# 出力層\n",
    "model.add(Dense(16, activation='softmax'))\n",
    "\n",
    "model.compile(loss=\"categorical_crossentropy\", metrics = [\"accuracy\"], optimizer = \"adam\")"
   ]
  },
  {
   "cell_type": "code",
   "execution_count": 2,
   "metadata": {},
   "outputs": [],
   "source": [
    "# モデル構築 DenseNet\n",
    "from tensorflow.keras.applications import densenet\n",
    "from tensorflow.keras.layers import GlobalAveragePooling2D, Dense\n",
    "from tensorflow.keras.models import Model\n",
    "base_model = densenet.DenseNet121(include_top=False, weights='imagenet', classes=1000)\n",
    "\n",
    "x = base_model.output\n",
    "x = GlobalAveragePooling2D()(x)\n",
    "predictions = Dense(16, activation='softmax')(x)\n",
    "model = Model(inputs=base_model.input, outputs=predictions)\n",
    "\n",
    "for layer in base_model.layers:\n",
    "    layer.trainable = False\n",
    "\n",
    "model.compile(loss=\"categorical_crossentropy\", metrics = [\"accuracy\"], optimizer = \"adam\")"
   ]
  },
  {
   "cell_type": "code",
   "execution_count": 3,
   "metadata": {},
   "outputs": [
    {
     "name": "stdout",
     "output_type": "stream",
     "text": "Epoch 1/100\n"
    }
   ],
   "source": [
    "# 学習\n",
    "from tensorflow.keras.callbacks import EarlyStopping\n",
    "from tensorflow.keras.preprocessing import image\n",
    "\n",
    "# data augmentationの設定\n",
    "params = {\n",
    "    'rotation_range': 20,\n",
    "    'width_shift_range':0.3,\n",
    "    'height_shift_range':0.3\n",
    "}\n",
    "datagen = image.ImageDataGenerator(**params)\n",
    "datagen.fit(x_train)\n",
    "\n",
    "early_stopping = EarlyStopping(monitor='loss', patience=5, verbose=1)\n",
    "\n",
    "history = model.fit_generator(datagen.flow(x_train, y_train, batch_size=1024), epochs=100, callbacks=[early_stopping])\n",
    "# model.fit(x_train, y_train, batch_size=100, verbose=2, epochs=30, validation_split=0.1, callbacks=[early_stopping])"
   ]
  },
  {
   "cell_type": "code",
   "execution_count": null,
   "metadata": {},
   "outputs": [],
   "source": [
    "# 性能評価\n",
    "score = model.evaluate(x_test, y_test, verbose=0)\n",
    "print(score)\n",
    "print('Test loss:', score[0])\n",
    "print('Test accuracy:', score[1])"
   ]
  },
  {
   "cell_type": "code",
   "execution_count": null,
   "metadata": {},
   "outputs": [],
   "source": [
    "# 経過確認\n",
    "import matplotlib.pyplot as plt\n",
    "print(history.history.keys())\n",
    "acc = history.history['accuracy']\n",
    "epochs = range(1, len(acc)+1)\n",
    "plt.plot(epochs, acc, 'b', label='Training accuracy')\n",
    "plt.legend()\n",
    "plt.show()"
   ]
  },
  {
   "cell_type": "code",
   "execution_count": null,
   "metadata": {},
   "outputs": [],
   "source": [
    "loss = history.history['loss']\n",
    "epochs = range(1, len(loss)+1 )\n",
    "plt.plot(epochs, loss, 'b', label='Training loss')\n",
    "plt.legend()\n",
    "plt.show()"
   ]
  }
 ],
 "metadata": {
  "kernelspec": {
   "display_name": "Python 3",
   "language": "python",
   "name": "python3"
  },
  "language_info": {
   "codemirror_mode": {
    "name": "ipython",
    "version": 3
   },
   "file_extension": ".py",
   "mimetype": "text/x-python",
   "name": "python",
   "nbconvert_exporter": "python",
   "pygments_lexer": "ipython3",
   "version": "3.6.8-final"
  }
 },
 "nbformat": 4,
 "nbformat_minor": 4
}